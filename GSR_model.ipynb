{
  "nbformat": 4,
  "nbformat_minor": 5,
  "metadata": {
    "kernelspec": {
      "display_name": "Python 3",
      "language": "python",
      "name": "python3"
    },
    "language_info": {
      "codemirror_mode": {
        "name": "ipython",
        "version": 3
      },
      "file_extension": ".py",
      "mimetype": "text/x-python",
      "name": "python",
      "nbconvert_exporter": "python",
      "pygments_lexer": "ipython3",
      "version": "3.8.5"
    },
    "colab": {
      "name": "GSR_model.ipynb",
      "provenance": [],
      "collapsed_sections": [],
      "include_colab_link": true
    }
  },
  "cells": [
    {
      "cell_type": "markdown",
      "metadata": {
        "id": "view-in-github",
        "colab_type": "text"
      },
      "source": [
        "<a href=\"https://colab.research.google.com/github/silvererudite/ML_algos_onSomeDatasets/blob/master/GSR_model.ipynb\" target=\"_parent\"><img src=\"https://colab.research.google.com/assets/colab-badge.svg\" alt=\"Open In Colab\"/></a>"
      ]
    },
    {
      "cell_type": "code",
      "metadata": {
        "id": "retired-honduras",
        "colab": {
          "base_uri": "https://localhost:8080/",
          "height": 34
        },
        "outputId": "9d8cb807-28c8-44e4-fb3d-d658ae74f31c"
      },
      "source": [
        "import pandas as pd\n",
        "import numpy\n",
        "import matplotlib.pyplot as plt\n",
        "%matplotlib inline\n",
        "#import seaborn as sns\n",
        "plt.figure(figsize=(15,10))\n",
        "from sklearn.decomposition import PCA\n",
        "from sklearn.neighbors import KNeighborsClassifier\n",
        "from sklearn.svm import SVC\n",
        "from sklearn.model_selection import train_test_split\n",
        "from sklearn.metrics import confusion_matrix\n",
        "from sklearn.metrics import plot_confusion_matrix\n",
        "from sklearn.metrics import accuracy_score\n",
        "from sklearn.metrics import classification_report\n",
        "from sklearn.metrics import roc_auc_score\n",
        "from sklearn.model_selection import GridSearchCV\n",
        "from sklearn.ensemble import AdaBoostClassifier"
      ],
      "id": "retired-honduras",
      "execution_count": 37,
      "outputs": [
        {
          "output_type": "display_data",
          "data": {
            "text/plain": [
              "<Figure size 1080x720 with 0 Axes>"
            ]
          },
          "metadata": {
            "tags": []
          }
        }
      ]
    },
    {
      "cell_type": "code",
      "metadata": {
        "id": "private-chicago"
      },
      "source": [
        "data=pd.read_csv(\"feature_GSR.csv\")"
      ],
      "id": "private-chicago",
      "execution_count": 38,
      "outputs": []
    },
    {
      "cell_type": "code",
      "metadata": {
        "id": "protective-drive",
        "colab": {
          "base_uri": "https://localhost:8080/",
          "height": 224
        },
        "outputId": "e0fe836c-351b-427b-de55-b7b47ec93b67"
      },
      "source": [
        "data.head()"
      ],
      "id": "protective-drive",
      "execution_count": 39,
      "outputs": [
        {
          "output_type": "execute_result",
          "data": {
            "text/html": [
              "<div>\n",
              "<style scoped>\n",
              "    .dataframe tbody tr th:only-of-type {\n",
              "        vertical-align: middle;\n",
              "    }\n",
              "\n",
              "    .dataframe tbody tr th {\n",
              "        vertical-align: top;\n",
              "    }\n",
              "\n",
              "    .dataframe thead th {\n",
              "        text-align: right;\n",
              "    }\n",
              "</style>\n",
              "<table border=\"1\" class=\"dataframe\">\n",
              "  <thead>\n",
              "    <tr style=\"text-align: right;\">\n",
              "      <th></th>\n",
              "      <th>0</th>\n",
              "      <th>1</th>\n",
              "      <th>2</th>\n",
              "      <th>3</th>\n",
              "      <th>4</th>\n",
              "      <th>5</th>\n",
              "      <th>6</th>\n",
              "      <th>7</th>\n",
              "      <th>8</th>\n",
              "      <th>9</th>\n",
              "      <th>10</th>\n",
              "      <th>11</th>\n",
              "      <th>Valence</th>\n",
              "      <th>Arousal</th>\n",
              "      <th>Dominance</th>\n",
              "      <th>Likings</th>\n",
              "    </tr>\n",
              "  </thead>\n",
              "  <tbody>\n",
              "    <tr>\n",
              "      <th>0</th>\n",
              "      <td>1765.0</td>\n",
              "      <td>1585.0</td>\n",
              "      <td>197.0</td>\n",
              "      <td>3338.209961</td>\n",
              "      <td>152.7</td>\n",
              "      <td>573.0</td>\n",
              "      <td>13.9</td>\n",
              "      <td>3337.068393</td>\n",
              "      <td>1668.534197</td>\n",
              "      <td>1724.0</td>\n",
              "      <td>19.7</td>\n",
              "      <td>138.8</td>\n",
              "      <td>1</td>\n",
              "      <td>1</td>\n",
              "      <td>1</td>\n",
              "      <td>1</td>\n",
              "    </tr>\n",
              "    <tr>\n",
              "      <th>1</th>\n",
              "      <td>921.0</td>\n",
              "      <td>450.0</td>\n",
              "      <td>194.0</td>\n",
              "      <td>2232.874914</td>\n",
              "      <td>60.8</td>\n",
              "      <td>302.0</td>\n",
              "      <td>35.2</td>\n",
              "      <td>2221.738415</td>\n",
              "      <td>1110.869207</td>\n",
              "      <td>802.0</td>\n",
              "      <td>19.4</td>\n",
              "      <td>25.6</td>\n",
              "      <td>1</td>\n",
              "      <td>1</td>\n",
              "      <td>1</td>\n",
              "      <td>1</td>\n",
              "    </tr>\n",
              "    <tr>\n",
              "      <th>2</th>\n",
              "      <td>3051.0</td>\n",
              "      <td>635.0</td>\n",
              "      <td>267.0</td>\n",
              "      <td>4475.143385</td>\n",
              "      <td>198.7</td>\n",
              "      <td>387.0</td>\n",
              "      <td>161.9</td>\n",
              "      <td>4459.726703</td>\n",
              "      <td>2229.863351</td>\n",
              "      <td>2254.0</td>\n",
              "      <td>26.7</td>\n",
              "      <td>36.8</td>\n",
              "      <td>1</td>\n",
              "      <td>1</td>\n",
              "      <td>1</td>\n",
              "      <td>1</td>\n",
              "    </tr>\n",
              "    <tr>\n",
              "      <th>3</th>\n",
              "      <td>763.0</td>\n",
              "      <td>667.0</td>\n",
              "      <td>235.0</td>\n",
              "      <td>1390.800127</td>\n",
              "      <td>50.0</td>\n",
              "      <td>367.0</td>\n",
              "      <td>6.8</td>\n",
              "      <td>1388.201911</td>\n",
              "      <td>694.100956</td>\n",
              "      <td>735.0</td>\n",
              "      <td>23.5</td>\n",
              "      <td>43.2</td>\n",
              "      <td>1</td>\n",
              "      <td>0</td>\n",
              "      <td>1</td>\n",
              "      <td>1</td>\n",
              "    </tr>\n",
              "    <tr>\n",
              "      <th>4</th>\n",
              "      <td>154.0</td>\n",
              "      <td>127.0</td>\n",
              "      <td>115.0</td>\n",
              "      <td>101.007542</td>\n",
              "      <td>-6.0</td>\n",
              "      <td>58.0</td>\n",
              "      <td>-7.2</td>\n",
              "      <td>83.137709</td>\n",
              "      <td>41.568854</td>\n",
              "      <td>55.0</td>\n",
              "      <td>11.5</td>\n",
              "      <td>1.2</td>\n",
              "      <td>1</td>\n",
              "      <td>0</td>\n",
              "      <td>1</td>\n",
              "      <td>1</td>\n",
              "    </tr>\n",
              "  </tbody>\n",
              "</table>\n",
              "</div>"
            ],
            "text/plain": [
              "        0       1      2            3  ...  Valence  Arousal  Dominance  Likings\n",
              "0  1765.0  1585.0  197.0  3338.209961  ...        1        1          1        1\n",
              "1   921.0   450.0  194.0  2232.874914  ...        1        1          1        1\n",
              "2  3051.0   635.0  267.0  4475.143385  ...        1        1          1        1\n",
              "3   763.0   667.0  235.0  1390.800127  ...        1        0          1        1\n",
              "4   154.0   127.0  115.0   101.007542  ...        1        0          1        1\n",
              "\n",
              "[5 rows x 16 columns]"
            ]
          },
          "metadata": {
            "tags": []
          },
          "execution_count": 39
        }
      ]
    },
    {
      "cell_type": "code",
      "metadata": {
        "id": "received-terminal",
        "colab": {
          "base_uri": "https://localhost:8080/",
          "height": 317
        },
        "outputId": "7351f034-c1e1-4c48-bd6f-51ee91f3cd29"
      },
      "source": [
        "data.describe()"
      ],
      "id": "received-terminal",
      "execution_count": 40,
      "outputs": [
        {
          "output_type": "execute_result",
          "data": {
            "text/html": [
              "<div>\n",
              "<style scoped>\n",
              "    .dataframe tbody tr th:only-of-type {\n",
              "        vertical-align: middle;\n",
              "    }\n",
              "\n",
              "    .dataframe tbody tr th {\n",
              "        vertical-align: top;\n",
              "    }\n",
              "\n",
              "    .dataframe thead th {\n",
              "        text-align: right;\n",
              "    }\n",
              "</style>\n",
              "<table border=\"1\" class=\"dataframe\">\n",
              "  <thead>\n",
              "    <tr style=\"text-align: right;\">\n",
              "      <th></th>\n",
              "      <th>0</th>\n",
              "      <th>1</th>\n",
              "      <th>2</th>\n",
              "      <th>3</th>\n",
              "      <th>4</th>\n",
              "      <th>5</th>\n",
              "      <th>6</th>\n",
              "      <th>7</th>\n",
              "      <th>8</th>\n",
              "      <th>9</th>\n",
              "      <th>10</th>\n",
              "      <th>11</th>\n",
              "      <th>Valence</th>\n",
              "      <th>Arousal</th>\n",
              "      <th>Dominance</th>\n",
              "      <th>Likings</th>\n",
              "    </tr>\n",
              "  </thead>\n",
              "  <tbody>\n",
              "    <tr>\n",
              "      <th>count</th>\n",
              "      <td>941.000000</td>\n",
              "      <td>941.000000</td>\n",
              "      <td>941.000000</td>\n",
              "      <td>941.000000</td>\n",
              "      <td>941.000000</td>\n",
              "      <td>941.00000</td>\n",
              "      <td>941.000000</td>\n",
              "      <td>941.000000</td>\n",
              "      <td>941.000000</td>\n",
              "      <td>941.000000</td>\n",
              "      <td>941.000000</td>\n",
              "      <td>941.000000</td>\n",
              "      <td>941.000000</td>\n",
              "      <td>941.000000</td>\n",
              "      <td>941.000000</td>\n",
              "      <td>941.000000</td>\n",
              "    </tr>\n",
              "    <tr>\n",
              "      <th>mean</th>\n",
              "      <td>777.044633</td>\n",
              "      <td>585.113709</td>\n",
              "      <td>134.569607</td>\n",
              "      <td>2279.744611</td>\n",
              "      <td>44.313390</td>\n",
              "      <td>317.12221</td>\n",
              "      <td>-0.741020</td>\n",
              "      <td>1993.170153</td>\n",
              "      <td>996.585076</td>\n",
              "      <td>577.703507</td>\n",
              "      <td>13.456961</td>\n",
              "      <td>45.054410</td>\n",
              "      <td>0.584485</td>\n",
              "      <td>0.591923</td>\n",
              "      <td>0.645058</td>\n",
              "      <td>0.650372</td>\n",
              "    </tr>\n",
              "    <tr>\n",
              "      <th>std</th>\n",
              "      <td>1357.950468</td>\n",
              "      <td>1095.865682</td>\n",
              "      <td>216.721826</td>\n",
              "      <td>6133.417145</td>\n",
              "      <td>99.891565</td>\n",
              "      <td>551.72826</td>\n",
              "      <td>45.041114</td>\n",
              "      <td>5984.011960</td>\n",
              "      <td>2992.005980</td>\n",
              "      <td>1064.987450</td>\n",
              "      <td>21.672183</td>\n",
              "      <td>102.482016</td>\n",
              "      <td>0.493073</td>\n",
              "      <td>0.491739</td>\n",
              "      <td>0.478750</td>\n",
              "      <td>0.477106</td>\n",
              "    </tr>\n",
              "    <tr>\n",
              "      <th>min</th>\n",
              "      <td>2.000000</td>\n",
              "      <td>1.000000</td>\n",
              "      <td>0.000000</td>\n",
              "      <td>2.037350</td>\n",
              "      <td>-98.000000</td>\n",
              "      <td>0.00000</td>\n",
              "      <td>-423.600000</td>\n",
              "      <td>0.062500</td>\n",
              "      <td>0.031250</td>\n",
              "      <td>0.000000</td>\n",
              "      <td>0.000000</td>\n",
              "      <td>0.100000</td>\n",
              "      <td>0.000000</td>\n",
              "      <td>0.000000</td>\n",
              "      <td>0.000000</td>\n",
              "      <td>0.000000</td>\n",
              "    </tr>\n",
              "    <tr>\n",
              "      <th>25%</th>\n",
              "      <td>64.000000</td>\n",
              "      <td>26.000000</td>\n",
              "      <td>0.000000</td>\n",
              "      <td>39.888761</td>\n",
              "      <td>0.500000</td>\n",
              "      <td>6.00000</td>\n",
              "      <td>0.000000</td>\n",
              "      <td>15.031222</td>\n",
              "      <td>7.515611</td>\n",
              "      <td>49.000000</td>\n",
              "      <td>0.000000</td>\n",
              "      <td>0.300000</td>\n",
              "      <td>0.000000</td>\n",
              "      <td>0.000000</td>\n",
              "      <td>0.000000</td>\n",
              "      <td>0.000000</td>\n",
              "    </tr>\n",
              "    <tr>\n",
              "      <th>50%</th>\n",
              "      <td>218.000000</td>\n",
              "      <td>137.000000</td>\n",
              "      <td>100.000000</td>\n",
              "      <td>273.516046</td>\n",
              "      <td>11.600000</td>\n",
              "      <td>112.00000</td>\n",
              "      <td>1.700000</td>\n",
              "      <td>116.613908</td>\n",
              "      <td>58.306954</td>\n",
              "      <td>195.000000</td>\n",
              "      <td>10.000000</td>\n",
              "      <td>6.200000</td>\n",
              "      <td>1.000000</td>\n",
              "      <td>1.000000</td>\n",
              "      <td>1.000000</td>\n",
              "      <td>1.000000</td>\n",
              "    </tr>\n",
              "    <tr>\n",
              "      <th>75%</th>\n",
              "      <td>833.000000</td>\n",
              "      <td>655.000000</td>\n",
              "      <td>194.000000</td>\n",
              "      <td>1762.443960</td>\n",
              "      <td>34.700000</td>\n",
              "      <td>378.00000</td>\n",
              "      <td>9.500000</td>\n",
              "      <td>1307.709358</td>\n",
              "      <td>653.854679</td>\n",
              "      <td>639.000000</td>\n",
              "      <td>19.400000</td>\n",
              "      <td>38.800000</td>\n",
              "      <td>1.000000</td>\n",
              "      <td>1.000000</td>\n",
              "      <td>1.000000</td>\n",
              "      <td>1.000000</td>\n",
              "    </tr>\n",
              "    <tr>\n",
              "      <th>max</th>\n",
              "      <td>7887.000000</td>\n",
              "      <td>7025.000000</td>\n",
              "      <td>2524.000000</td>\n",
              "      <td>59541.684022</td>\n",
              "      <td>734.500000</td>\n",
              "      <td>4003.00000</td>\n",
              "      <td>180.400000</td>\n",
              "      <td>59493.673061</td>\n",
              "      <td>29746.836531</td>\n",
              "      <td>7767.000000</td>\n",
              "      <td>252.400000</td>\n",
              "      <td>682.400000</td>\n",
              "      <td>1.000000</td>\n",
              "      <td>1.000000</td>\n",
              "      <td>1.000000</td>\n",
              "      <td>1.000000</td>\n",
              "    </tr>\n",
              "  </tbody>\n",
              "</table>\n",
              "</div>"
            ],
            "text/plain": [
              "                 0            1  ...   Dominance     Likings\n",
              "count   941.000000   941.000000  ...  941.000000  941.000000\n",
              "mean    777.044633   585.113709  ...    0.645058    0.650372\n",
              "std    1357.950468  1095.865682  ...    0.478750    0.477106\n",
              "min       2.000000     1.000000  ...    0.000000    0.000000\n",
              "25%      64.000000    26.000000  ...    0.000000    0.000000\n",
              "50%     218.000000   137.000000  ...    1.000000    1.000000\n",
              "75%     833.000000   655.000000  ...    1.000000    1.000000\n",
              "max    7887.000000  7025.000000  ...    1.000000    1.000000\n",
              "\n",
              "[8 rows x 16 columns]"
            ]
          },
          "metadata": {
            "tags": []
          },
          "execution_count": 40
        }
      ]
    },
    {
      "cell_type": "code",
      "metadata": {
        "id": "sought-atlantic",
        "colab": {
          "base_uri": "https://localhost:8080/"
        },
        "outputId": "8211fc5b-ca89-47fd-ad4a-e9d983a1102d"
      },
      "source": [
        "data.isnull().sum()"
      ],
      "id": "sought-atlantic",
      "execution_count": 41,
      "outputs": [
        {
          "output_type": "execute_result",
          "data": {
            "text/plain": [
              "0            0\n",
              "1            0\n",
              "2            0\n",
              "3            0\n",
              "4            0\n",
              "5            0\n",
              "6            0\n",
              "7            0\n",
              "8            0\n",
              "9            0\n",
              "10           0\n",
              "11           0\n",
              "Valence      0\n",
              "Arousal      0\n",
              "Dominance    0\n",
              "Likings      0\n",
              "dtype: int64"
            ]
          },
          "metadata": {
            "tags": []
          },
          "execution_count": 41
        }
      ]
    },
    {
      "cell_type": "code",
      "metadata": {
        "id": "8BR3SyVRKREX"
      },
      "source": [
        "def knn_classifier():\n",
        "    X=data.drop(['Valence','Arousal','Dominance','Likings'],axis=1).values\n",
        "    y=data['Valence'].values\n",
        "    \n",
        "    # Split the data into training/testing sets\n",
        "    X_train, X_test, y_train, y_test = train_test_split(X, y, test_size=0.2, random_state=0)\n",
        "    \n",
        "    # Feature Scaling\n",
        "    from sklearn.preprocessing import StandardScaler\n",
        "    sc = StandardScaler()\n",
        "    X_train = sc.fit_transform(X_train)\n",
        "    X_test = sc.transform(X_test)\n",
        "    \t\n",
        "    # KNN\n",
        "    clf = KNeighborsClassifier(n_neighbors=7, leaf_size=3, p=1)\n",
        "    clf.fit(X_train, y_train)\n",
        "    y_predict = clf.predict(X_test)\n",
        "    cm = confusion_matrix(y_test, y_predict)\n",
        "    #print(cm)\n",
        "    plot_confusion_matrix(clf, X_test, y_test) \n",
        "    print(\"Classification report of valence\")\n",
        "    print(classification_report(y_test, y_predict))\n",
        "    print(\"Accuracy score of Valence \")\n",
        "    print(accuracy_score(y_test, y_predict)*100)\n",
        "    \n",
        "    \n",
        "    \n",
        "    ###############################################################################\n",
        "    \n",
        "    X=data.drop(['Valence','Arousal','Dominance','Likings'],axis=1).values\n",
        "    y=data['Arousal'].values\n",
        "    \n",
        "    # Split the data into training/testing sets\n",
        "    X_train, X_test, y_train, y_test = train_test_split(X, y, test_size=0.2, random_state=4)\n",
        "    \n",
        "    # Feature Scaling\n",
        "    from sklearn.preprocessing import StandardScaler\n",
        "    sc = StandardScaler()\n",
        "    X_train = sc.fit_transform(X_train)\n",
        "    X_test = sc.transform(X_test)\n",
        "    \t\n",
        "    # KNN\n",
        "    clf = KNeighborsClassifier(n_neighbors=7)\n",
        "    clf.fit(X_train, y_train)\n",
        "    y_predict = clf.predict(X_test)\n",
        "    cm = confusion_matrix(y_test, y_predict)\n",
        "    #print(cm)\n",
        "    plot_confusion_matrix(clf, X_test, y_test) \n",
        "    print(\"Accuracy score of Arousal \")\n",
        "    print(accuracy_score(y_test, y_predict)*100)"
      ],
      "id": "8BR3SyVRKREX",
      "execution_count": 42,
      "outputs": []
    },
    {
      "cell_type": "code",
      "metadata": {
        "colab": {
          "base_uri": "https://localhost:8080/",
          "height": 779
        },
        "id": "kMa6Kda7L83d",
        "outputId": "09afacce-9a15-48d5-87e0-7c44f856b12d"
      },
      "source": [
        "knn_classifier()"
      ],
      "id": "kMa6Kda7L83d",
      "execution_count": 43,
      "outputs": [
        {
          "output_type": "stream",
          "text": [
            "Classification report of valence\n",
            "              precision    recall  f1-score   support\n",
            "\n",
            "           0       0.45      0.30      0.36        81\n",
            "           1       0.58      0.73      0.65       108\n",
            "\n",
            "    accuracy                           0.54       189\n",
            "   macro avg       0.52      0.51      0.50       189\n",
            "weighted avg       0.53      0.54      0.52       189\n",
            "\n",
            "Accuracy score of Valence \n",
            "54.4973544973545\n",
            "Accuracy score of Arousal \n",
            "53.43915343915344\n"
          ],
          "name": "stdout"
        },
        {
          "output_type": "display_data",
          "data": {
            "image/png": "[encoded data removed]",
            "text/plain": [
              "<Figure size 432x288 with 2 Axes>"
            ]
          },
          "metadata": {
            "tags": [],
            "needs_background": "light"
          }
        },
        {
          "output_type": "display_data",
          "data": {
            "image/png": "[encoded data removed]",
            "text/plain": [
              "<Figure size 432x288 with 2 Axes>"
            ]
          },
          "metadata": {
            "tags": [],
            "needs_background": "light"
          }
        }
      ]
    },
    {
      "cell_type": "code",
      "metadata": {
        "colab": {
          "base_uri": "https://localhost:8080/",
          "height": 609
        },
        "id": "hkOD8vWjMMQk",
        "outputId": "5f035159-d03b-4541-8fcb-cfda6427d941"
      },
      "source": [
        "def knn_classifier_pca():\n",
        "    X=data.drop(['Valence','Arousal','Dominance','Likings'],axis=1).values\n",
        "    y=data['Valence'].values\n",
        "    # PCA to select features\n",
        "    pca = PCA(n_components=10, svd_solver='full')\n",
        "    pca.fit(X)\n",
        "    X = pca.transform(X)\n",
        "    \n",
        "    # Split the data into training/testing sets\n",
        "    X_train, X_test, y_train, y_test = train_test_split(X, y, test_size=0.20, random_state=0)\n",
        "    \n",
        "    # Feature Scaling\n",
        "    from sklearn.preprocessing import StandardScaler\n",
        "    sc = StandardScaler()\n",
        "    X_train = sc.fit_transform(X_train)\n",
        "    X_test = sc.transform(X_test)\n",
        "       \t\n",
        "    # KNN classsifier\n",
        "    clf = KNeighborsClassifier(n_neighbors=7, leaf_size=3, p=1)\n",
        "    trained_model=clf.fit(X_train,y_train)\n",
        "    trained_model.fit(X_train,y_train )\n",
        "    \n",
        "    clf.fit(X_train, y_train)\n",
        "    y_predict = clf.predict(X_test)\n",
        "    cm = confusion_matrix(y_test, y_predict)\n",
        "    #print(cm)\n",
        "    plot_confusion_matrix(clf, X_test, y_test) \n",
        "    \n",
        "    print(\"Accuracy score of valence test KNN-PCA\")\n",
        "    \n",
        "    print(accuracy_score(y_test, y_predict)*100)\n",
        "    # print(\"AUC score for Valence\")\n",
        "    # print(roc_auc_score(y_test, y_predict))\n",
        "    \n",
        "    \n",
        "    ########################################################################\n",
        "    X=data.drop(['Valence','Arousal','Dominance','Likings'],axis=1).values\n",
        "    y=data['Arousal'].values\n",
        "    \n",
        "    # Split the data into training/testing sets\n",
        "    X_train, X_test, y_train, y_test = train_test_split(X, y, test_size=0.20, random_state=4)\n",
        "    \n",
        "    # Feature Scaling\n",
        "    from sklearn.preprocessing import StandardScaler\n",
        "    sc = StandardScaler()\n",
        "    X_train = sc.fit_transform(X_train)\n",
        "    X_test = sc.transform(X_test)\n",
        "        \n",
        "    # PCA to select features\n",
        "    pca = PCA(n_components=10, svd_solver='full')\n",
        "    pca.fit(X)\n",
        "    X = pca.transform(X)\n",
        "        \t\n",
        "    # KNN classsifier\n",
        "    clf = KNeighborsClassifier(n_neighbors=9)\n",
        "    trained_model=clf.fit(X_train,y_train)\n",
        "    trained_model.fit(X_train,y_train )\n",
        "    \n",
        "    clf.fit(X_train, y_train)\n",
        "    y_predict = clf.predict(X_test)\n",
        "    cm = confusion_matrix(y_test, y_predict)\n",
        "    #print(cm)\n",
        "    plot_confusion_matrix(clf, X_test, y_test) \n",
        "    \n",
        "    print(\"Accuracy score of Arousal test KNN-PCA\")\n",
        "    print(accuracy_score(y_test, y_predict)*100)\n",
        "\n",
        "knn_classifier_pca()   \n",
        "    "
      ],
      "id": "hkOD8vWjMMQk",
      "execution_count": 44,
      "outputs": [
        {
          "output_type": "stream",
          "text": [
            "Accuracy score of valence test KNN-PCA\n",
            "50.264550264550266\n",
            "Accuracy score of Arousal test KNN-PCA\n",
            "56.613756613756614\n"
          ],
          "name": "stdout"
        },
        {
          "output_type": "display_data",
          "data": {
            "image/png": "[encoded data removed]",
            "text/plain": [
              "<Figure size 432x288 with 2 Axes>"
            ]
          },
          "metadata": {
            "tags": [],
            "needs_background": "light"
          }
        },
        {
          "output_type": "display_data",
          "data": {
            "image/png": "[encoded data removed]",
            "text/plain": [
              "<Figure size 432x288 with 2 Axes>"
            ]
          },
          "metadata": {
            "tags": [],
            "needs_background": "light"
          }
        }
      ]
    },
    {
      "cell_type": "code",
      "metadata": {
        "colab": {
          "base_uri": "https://localhost:8080/",
          "height": 611
        },
        "id": "2luFZfWh35Mw",
        "outputId": "90a4f525-8116-4ec5-9797-2b26a0a22d86"
      },
      "source": [
        "def svm_classifier(): \n",
        "    X=data.drop(['Valence','Arousal','Dominance','Likings'],axis=1).values\n",
        "    y=data['Valence'].values\n",
        "    \n",
        "    # Split the data into training/testing sets\n",
        "    X_train, X_test, y_train, y_test = train_test_split(X, y, test_size=0.2, random_state=42)\n",
        "    \n",
        "    # Feature Scaling\n",
        "    from sklearn.preprocessing import StandardScaler\n",
        "    sc = StandardScaler()\n",
        "    X_train = sc.fit_transform(X_train)\n",
        "    X_test = sc.transform(X_test)\n",
        "    \t\n",
        "    # SVM Classifier\n",
        "    clf = SVC(kernel = 'rbf', random_state = 42)\n",
        "    clf.fit(X_train, y_train)\n",
        "    y_predict = clf.predict(X_test)\n",
        "    cm = confusion_matrix(y_test, y_predict)\n",
        "    #print(cm)\n",
        "    plot_confusion_matrix(clf, X_test, y_test) \n",
        "    \n",
        "    print(\"Accuracy score of Valence \")\n",
        "    print(accuracy_score(y_test, y_predict)*100)\n",
        "    \n",
        "    ###############################################################\n",
        "    \n",
        "    X=data.drop(['Valence','Arousal','Dominance','Likings'],axis=1).values\n",
        "    y=data['Arousal'].values\n",
        "    \n",
        "    # Split the data into training/testing sets\n",
        "    X_train, X_test, y_train, y_test = train_test_split(X, y, test_size=0.2, random_state=42)\n",
        "    \n",
        "    # Feature Scaling\n",
        "    from sklearn.preprocessing import StandardScaler\n",
        "    sc = StandardScaler()\n",
        "    X_train = sc.fit_transform(X_train)\n",
        "    X_test = sc.transform(X_test)\n",
        "    \t\n",
        "    # SVM Classifier\n",
        "    clf = SVC(kernel = 'rbf', random_state = 42)\n",
        "    clf.fit(X_train, y_train)\n",
        "    y_predict = clf.predict(X_test)\n",
        "    cm = confusion_matrix(y_test, y_predict)\n",
        "    #print(cm)\n",
        "    plot_confusion_matrix(clf, X_test, y_test) \n",
        "    print(\"Accuracy score of Arousal \")\n",
        "    print(accuracy_score(y_test, y_predict)*100)\n",
        "svm_classifier()"
      ],
      "id": "2luFZfWh35Mw",
      "execution_count": 45,
      "outputs": [
        {
          "output_type": "stream",
          "text": [
            "Accuracy score of Valence \n",
            "53.96825396825397\n",
            "Accuracy score of Arousal \n",
            "57.67195767195767\n"
          ],
          "name": "stdout"
        },
        {
          "output_type": "display_data",
          "data": {
            "image/png": "[encoded data removed]",
            "text/plain": [
              "<Figure size 432x288 with 2 Axes>"
            ]
          },
          "metadata": {
            "tags": [],
            "needs_background": "light"
          }
        },
        {
          "output_type": "display_data",
          "data": {
            "image/png": "[encoded data removed]",
            "text/plain": [
              "<Figure size 432x288 with 2 Axes>"
            ]
          },
          "metadata": {
            "tags": [],
            "needs_background": "light"
          }
        }
      ]
    },
    {
      "cell_type": "code",
      "metadata": {
        "colab": {
          "base_uri": "https://localhost:8080/",
          "height": 864
        },
        "id": "ahqCKwiC6OWH",
        "outputId": "81f8b8ee-dcb3-4d82-ddd3-c555c0ae6370"
      },
      "source": [
        "def svm_classifier_pca():\n",
        "    X=data.drop(['Valence','Arousal','Dominance','Likings'],axis=1).values\n",
        "    y=data['Valence'].values\n",
        "    print(\"Applying PCA to select features \\n\")\n",
        "    \n",
        "    # PCA to select features\n",
        "    pca = PCA(n_components=10, svd_solver='full')\n",
        "    pca.fit(X)\n",
        "    X = pca.transform(X)\n",
        "    #explained_variance=pca.explained_variance_ratio_\n",
        "    \n",
        "   \n",
        "    print(\"Split the data into training/testing sets \\n\")\n",
        "\n",
        "    \n",
        "    # Split the data into training/testing sets\n",
        "    X_train, X_test, y_train, y_test_0 = train_test_split(X, y, test_size=0.2, random_state=4)\n",
        "     \n",
        "    \n",
        "    print(\"Feature Scaling \\n\")\n",
        "    \n",
        "    # Feature Scaling\n",
        "    from sklearn.preprocessing import StandardScaler\n",
        "    sc = StandardScaler()\n",
        "    X_train = sc.fit_transform(X_train)\n",
        "    X_test = sc.transform(X_test)\n",
        "    \n",
        "    \n",
        "    \n",
        "    print(\"Applying SVM classifier \\n\")\n",
        "    # SVM Classifier\n",
        "    clf = SVC()\n",
        "    clf.fit(X_train, y_train)\n",
        "    y_predict_0 = clf.predict(X_test)\n",
        "    cm = confusion_matrix(y_test_0, y_predict_0)\n",
        "    #print(cm)\n",
        "    plot_confusion_matrix(clf, X_test, y_test_0) \n",
        "    print(\"Accuracy score of Valence SVM-PCA\")\n",
        "    print(accuracy_score(y_test_0, y_predict_0)*100)\n",
        "    \n",
        "    #######################################################################\n",
        "    \n",
        "    X=data.drop(['Valence','Arousal','Dominance','Likings'],axis=1).values\n",
        "    y=data['Arousal'].values\n",
        "    \n",
        "    print(\"Applying PCA to select features \\n\")\n",
        "    \n",
        "    # PCA to select features\n",
        "    pca = PCA(n_components=10, svd_solver='full')\n",
        "    pca.fit(X)\n",
        "    X = pca.transform(X)\n",
        "    #explained_variance=pca.explained_variance_ratio_\n",
        "    \n",
        "   \n",
        "    print(\"Split the data into training/testing sets \\n\")\n",
        "    \n",
        "    # Split the data into training/testing sets\n",
        "    X_train, X_test, y_train, y_test_0 = train_test_split(X, y, test_size=0.2, random_state=4)\n",
        "     \n",
        "    \n",
        "    print(\"Feature Scaling \\n\")\n",
        "    \n",
        "    # Feature Scaling\n",
        "    from sklearn.preprocessing import StandardScaler\n",
        "    sc = StandardScaler()\n",
        "    X_train = sc.fit_transform(X_train)\n",
        "    X_test = sc.transform(X_test)\n",
        "    \n",
        "    \n",
        "    print(\"Applying SVM classifier \\n\")\n",
        "    # SVM Classifier\n",
        "    clf = SVC()\n",
        "    clf.fit(X_train, y_train)\n",
        "    y_predict_0 = clf.predict(X_test)\n",
        "    cm = confusion_matrix(y_test_0,y_predict_0)\n",
        "    #print(cm)\n",
        "    plot_confusion_matrix(clf, X_test, y_test_0) \n",
        "    print(accuracy_score(y_test_0, y_predict_0)*100)\n",
        "    \n",
        "svm_classifier_pca()"
      ],
      "id": "ahqCKwiC6OWH",
      "execution_count": 46,
      "outputs": [
        {
          "output_type": "stream",
          "text": [
            "Applying PCA to select features \n",
            "\n",
            "Split the data into training/testing sets \n",
            "\n",
            "Feature Scaling \n",
            "\n",
            "Applying SVM classifier \n",
            "\n",
            "Accuracy score of Valence SVM-PCA\n",
            "59.25925925925925\n",
            "Applying PCA to select features \n",
            "\n",
            "Split the data into training/testing sets \n",
            "\n",
            "Feature Scaling \n",
            "\n",
            "Applying SVM classifier \n",
            "\n",
            "57.14285714285714\n"
          ],
          "name": "stdout"
        },
        {
          "output_type": "display_data",
          "data": {
            "image/png": "[encoded data removed]",
            "text/plain": [
              "<Figure size 432x288 with 2 Axes>"
            ]
          },
          "metadata": {
            "tags": [],
            "needs_background": "light"
          }
        },
        {
          "output_type": "display_data",
          "data": {
            "image/png": "[encoded data removed]",
            "text/plain": [
              "<Figure size 432x288 with 2 Axes>"
            ]
          },
          "metadata": {
            "tags": [],
            "needs_background": "light"
          }
        }
      ]
    },
    {
      "cell_type": "code",
      "metadata": {
        "id": "G1aHRtw5tR60"
      },
      "source": [
        "# import numpy as np\n",
        "# from sklearn.model_selection import train_test_split\n",
        "# from sklearn.preprocessing import StandardScaler\n",
        "# import time\n",
        "# import matplotlib.pyplot as plt \n",
        "# from sklearn import model_selection\n",
        "# from sklearn.linear_model import LogisticRegression\n",
        "# from sklearn.svm import SVC\n",
        "# from sklearn.neighbors import KNeighborsClassifier\n",
        "# from sklearn.tree import DecisionTreeClassifier\n",
        "\n",
        "# def cross_validate0():\n",
        "    \n",
        "#     # Get Data\n",
        "#     X=data.drop(['Valence','Arousal','Dominance','Likings'],axis=1).values\n",
        "#     y=data['Valence'].values\n",
        "    \n",
        "   \n",
        "    \n",
        "#     # Split the data into training/testing sets\n",
        "#     X_train, X_test, y_train, y_test = train_test_split(X, y, test_size=0.30, random_state=42)\n",
        "    \n",
        "#      # Feature Scaling\n",
        "#     from sklearn.preprocessing import StandardScaler\n",
        "#     sc = StandardScaler()\n",
        "#     X_train = sc.fit_transform(X_train)\n",
        "#     X_test = sc.transform(X_test)\n",
        "    \n",
        "#      #principle component analysis\n",
        "#     from sklearn.decomposition import PCA\n",
        "#     pca = PCA(n_components=20)\n",
        "#     X_train = pca.fit_transform(X_train)\n",
        "#     X_test = pca.fit_transform(X_test)\n",
        "    \n",
        "   \n",
        "    \t\n",
        "#     models = []\n",
        "#     models.append(('LR', LogisticRegression(random_state = 0)))\n",
        "#     models.append(('SVC', SVC(kernel = 'rbf', random_state = 0)))\n",
        "     \n",
        "#     models.append(('KNN', KNeighborsClassifier(n_neighbors=5)))\n",
        "#     models.append(('DT', DecisionTreeClassifier(random_state = 0)))\n",
        "    \n",
        "#     scoring = 'accuracy'\n",
        "    \n",
        "#     # Cross Validate\n",
        "#     results = []\n",
        "#     names = []\n",
        "#     timer = []\n",
        "#     print('Model | Mean of CV | Std. Dev. of CV | Time')\n",
        "#     for name, model in models:\n",
        "#         start_time = time.time()\n",
        "#         kfold = model_selection.KFold(n_splits=5, random_state=0)\n",
        "#         cv_results = model_selection.cross_val_score(model, X_train, y_train, cv=kfold, scoring=scoring)\n",
        "#         t = (time.time() - start_time)\n",
        "#         timer.append(t)\n",
        "#         results.append(cv_results)\n",
        "#         names.append(name)\n",
        "#         msg = \"%s: %f (%f) %f s\" % (name, cv_results.mean(), cv_results.std(), t)\n",
        "#         print(msg)\n",
        "    \n",
        "        \n",
        "#     models = []\n",
        "#     for i in range(1,41): \n",
        "#         models.append(('KNN', KNeighborsClassifier(n_neighbors=i)))\n",
        "#         results = []\n",
        "#         names = []\n",
        "#         timer = []\n",
        "#         cv_knn = []\n",
        "        \n",
        "#         print('Model  | Mean of CV | Std. Dev. of CV | Time',i)\n",
        "#         for name, model in models:\n",
        "#             start_time = time.time()\n",
        "#             kfold = model_selection.KFold(n_splits=4, random_state=42)\n",
        "#             cv_results = model_selection.cross_val_score(model, X_train, y_train, cv=kfold, scoring=scoring)\n",
        "#             t = (time.time() - start_time)\n",
        "#             timer.append(t)\n",
        "#             results.append(cv_results)\n",
        "#             names.append(name)\n",
        "#             msg = \"%s: %f (%f) %f s\" % (name, cv_results.mean(), cv_results.std(), t)\n",
        "                \n",
        "#             cv_knn.append(cv_results.mean())\n",
        "#         print(msg)\n",
        "        \n",
        "#     print('\\nmaximum accuracy for valence is',max(cv_knn))\n",
        "\n",
        "    \n",
        "#     plt.figure(figsize=(12, 6))  \n",
        "#     plt.plot(range(1, 41), cv_knn, color='red', linestyle='dashed', marker='o',  \n",
        "#              markerfacecolor='blue', markersize=10)\n",
        "#     plt.title('mean cv_results of  K Value for Valence')  \n",
        "#     plt.xlabel('K Value')  \n",
        "#     plt.ylabel('Mean cv_result')  \n",
        "    \n",
        "        \n",
        "\n",
        "# cross_validate0()"
      ],
      "id": "G1aHRtw5tR60",
      "execution_count": 47,
      "outputs": []
    },
    {
      "cell_type": "code",
      "metadata": {
        "colab": {
          "base_uri": "https://localhost:8080/",
          "height": 613
        },
        "id": "jyWOtOWBcuRo",
        "outputId": "71d4c664-0190-49e0-ec8c-3cdde7f268d6"
      },
      "source": [
        "def adaBoost_classifier(): \n",
        "    X=data.drop(['Valence','Arousal','Dominance','Likings'],axis=1).values\n",
        "    y=data['Valence'].values\n",
        "    # PCA to select features\n",
        "    # pca = PCA(n_components=10, svd_solver='full')\n",
        "    # pca.fit(X)\n",
        "    # X = pca.transform(X)\n",
        "    \n",
        "    # Split the data into training/testing sets\n",
        "    X_train, X_test, y_train, y_test = train_test_split(X, y, test_size=0.2, random_state=42)\n",
        "    \n",
        "    # Feature Scaling\n",
        "    from sklearn.preprocessing import StandardScaler\n",
        "    sc = StandardScaler()\n",
        "    X_train = sc.fit_transform(X_train)\n",
        "    X_test = sc.transform(X_test)\n",
        "    \t\n",
        "    # SVM Classifier\n",
        "    \n",
        "    clf = AdaBoostClassifier(n_estimators=100, learning_rate=1, random_state=0)\n",
        "    clf.fit(X_train, y_train)\n",
        "    y_predict = clf.predict(X_test)\n",
        "    cm = confusion_matrix(y_test, y_predict)\n",
        "    #print(cm)\n",
        "    plot_confusion_matrix(clf, X_test, y_test) \n",
        "    \n",
        "    print(\"Accuracy score of Valence \")\n",
        "    print(accuracy_score(y_test, y_predict)*100)\n",
        "    \n",
        "    ###############################################################\n",
        "    \n",
        "    X=data.drop(['Valence','Arousal','Dominance','Likings'],axis=1).values\n",
        "    y=data['Arousal'].values\n",
        "    # PCA to select features\n",
        "    pca = PCA(n_components=10, svd_solver='full')\n",
        "    pca.fit(X)\n",
        "    X = pca.transform(X)\n",
        "    \n",
        "    # Split the data into training/testing sets\n",
        "    X_train, X_test, y_train, y_test = train_test_split(X, y, test_size=0.2, random_state=42)\n",
        "    \n",
        "    # Feature Scaling\n",
        "    from sklearn.preprocessing import StandardScaler\n",
        "    sc = StandardScaler()\n",
        "    X_train = sc.fit_transform(X_train)\n",
        "    X_test = sc.transform(X_test)\n",
        "    \t\n",
        "    # SVM Classifier\n",
        "    clf = AdaBoostClassifier(n_estimators=100, learning_rate=1, random_state=0)\n",
        "    clf.fit(X_train, y_train)\n",
        "    y_predict = clf.predict(X_test)\n",
        "    cm = confusion_matrix(y_test, y_predict)\n",
        "    #print(cm)\n",
        "    plot_confusion_matrix(clf, X_test, y_test) \n",
        "    print(\"Accuracy score of Arousal \")\n",
        "    print(accuracy_score(y_test, y_predict)*100)\n",
        "\n",
        "adaBoost_classifier()"
      ],
      "id": "jyWOtOWBcuRo",
      "execution_count": 48,
      "outputs": [
        {
          "output_type": "stream",
          "text": [
            "Accuracy score of Valence \n",
            "55.55555555555556\n",
            "Accuracy score of Arousal \n",
            "53.96825396825397\n"
          ],
          "name": "stdout"
        },
        {
          "output_type": "display_data",
          "data": {
            "image/png": "[encoded data removed]",
            "text/plain": [
              "<Figure size 432x288 with 2 Axes>"
            ]
          },
          "metadata": {
            "tags": [],
            "needs_background": "light"
          }
        },
        {
          "output_type": "display_data",
          "data": {
            "image/png": "[encoded data removed]",
            "text/plain": [
              "<Figure size 432x288 with 2 Axes>"
            ]
          },
          "metadata": {
            "tags": [],
            "needs_background": "light"
          }
        }
      ]
    }
  ]
}