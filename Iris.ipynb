{
  "nbformat": 4,
  "nbformat_minor": 0,
  "metadata": {
    "colab": {
      "name": "Iris.ipynb",
      "provenance": [],
      "collapsed_sections": [],
      "authorship_tag": "ABX9TyMItVxemn+77gLyl3LQQh4s",
      "include_colab_link": true
    },
    "kernelspec": {
      "name": "python3",
      "display_name": "Python 3"
    }
  },
  "cells": [
    {
      "cell_type": "markdown",
      "metadata": {
        "id": "view-in-github",
        "colab_type": "text"
      },
      "source": [
        "<a href=\"https://colab.research.google.com/github/silvererudite/ML_algos_onSomeDatasets/blob/master/Iris.ipynb\" target=\"_parent\"><img src=\"https://colab.research.google.com/assets/colab-badge.svg\" alt=\"Open In Colab\"/></a>"
      ]
    },
    {
      "cell_type": "markdown",
      "metadata": {
        "id": "Dgw-X5n_dDDR",
        "colab_type": "text"
      },
      "source": [
        "At first, we import and load the iris dataset that comes with the sklearn built in. At this point we don't need to bother with numpy and pandas yet"
      ]
    },
    {
      "cell_type": "code",
      "metadata": {
        "id": "zlxHXWO_Y6qp",
        "colab_type": "code",
        "colab": {}
      },
      "source": [
        "import pandas as pd\n",
        "import numpy as np\n",
        "from sklearn import datasets\n",
        "iris=datasets.load_iris()\n"
      ],
      "execution_count": 0,
      "outputs": []
    },
    {
      "cell_type": "markdown",
      "metadata": {
        "id": "YN_mZnMgaai-",
        "colab_type": "text"
      },
      "source": [
        "Then we get and idea of what the data looks like by using the .data attribute which returns a 2D array containing(n samples and their corresponding features). Though this doesn't give us much insight and the names of each features. \n",
        "But the iris dataset, or any dataset in scikit learn is a dictionary like object. So we can view what keys it has "
      ]
    },
    {
      "cell_type": "code",
      "metadata": {
        "id": "jQyIvMJEZdtd",
        "colab_type": "code",
        "outputId": "b30dd204-9560-4eab-88ab-dfde30c773a0",
        "colab": {
          "base_uri": "https://localhost:8080/",
          "height": 35
        }
      },
      "source": [
        "iris.keys()\n"
      ],
      "execution_count": 2,
      "outputs": [
        {
          "output_type": "execute_result",
          "data": {
            "text/plain": [
              "dict_keys(['data', 'target', 'target_names', 'DESCR', 'feature_names', 'filename'])"
            ]
          },
          "metadata": {
            "tags": []
          },
          "execution_count": 2
        }
      ]
    },
    {
      "cell_type": "markdown",
      "metadata": {
        "id": "h36ndnbwcpJV",
        "colab_type": "text"
      },
      "source": [
        "We can separately view the feature names by calling it using the dot notation like this"
      ]
    },
    {
      "cell_type": "code",
      "metadata": {
        "id": "32wn7nPWaDGv",
        "colab_type": "code",
        "outputId": "7e583b3c-e789-4c44-d58c-dee3425fe18d",
        "colab": {
          "base_uri": "https://localhost:8080/",
          "height": 90
        }
      },
      "source": [
        "iris.feature_names"
      ],
      "execution_count": 3,
      "outputs": [
        {
          "output_type": "execute_result",
          "data": {
            "text/plain": [
              "['sepal length (cm)',\n",
              " 'sepal width (cm)',\n",
              " 'petal length (cm)',\n",
              " 'petal width (cm)']"
            ]
          },
          "metadata": {
            "tags": []
          },
          "execution_count": 3
        }
      ]
    },
    {
      "cell_type": "markdown",
      "metadata": {
        "id": "FrZ3s_KUgX4N",
        "colab_type": "text"
      },
      "source": [
        "Another metadata that we care about is the target, let's view target array"
      ]
    },
    {
      "cell_type": "code",
      "metadata": {
        "id": "Q0_4D2_cc0lH",
        "colab_type": "code",
        "outputId": "2d9e9def-f138-470b-d657-83a01010bb12",
        "colab": {
          "base_uri": "https://localhost:8080/",
          "height": 146
        }
      },
      "source": [
        "iris.target"
      ],
      "execution_count": 4,
      "outputs": [
        {
          "output_type": "execute_result",
          "data": {
            "text/plain": [
              "array([0, 0, 0, 0, 0, 0, 0, 0, 0, 0, 0, 0, 0, 0, 0, 0, 0, 0, 0, 0, 0, 0,\n",
              "       0, 0, 0, 0, 0, 0, 0, 0, 0, 0, 0, 0, 0, 0, 0, 0, 0, 0, 0, 0, 0, 0,\n",
              "       0, 0, 0, 0, 0, 0, 1, 1, 1, 1, 1, 1, 1, 1, 1, 1, 1, 1, 1, 1, 1, 1,\n",
              "       1, 1, 1, 1, 1, 1, 1, 1, 1, 1, 1, 1, 1, 1, 1, 1, 1, 1, 1, 1, 1, 1,\n",
              "       1, 1, 1, 1, 1, 1, 1, 1, 1, 1, 1, 1, 2, 2, 2, 2, 2, 2, 2, 2, 2, 2,\n",
              "       2, 2, 2, 2, 2, 2, 2, 2, 2, 2, 2, 2, 2, 2, 2, 2, 2, 2, 2, 2, 2, 2,\n",
              "       2, 2, 2, 2, 2, 2, 2, 2, 2, 2, 2, 2, 2, 2, 2, 2, 2, 2])"
            ]
          },
          "metadata": {
            "tags": []
          },
          "execution_count": 4
        }
      ]
    },
    {
      "cell_type": "markdown",
      "metadata": {
        "id": "1KEQV44Wb2tg",
        "colab_type": "text"
      },
      "source": [
        "So let us use only scikit learn to apply some ML algos on this dataset"
      ]
    },
    {
      "cell_type": "markdown",
      "metadata": {
        "id": "FPETYdKEb2o1",
        "colab_type": "text"
      },
      "source": [
        "The task is to classify the flowers in the dataset to their appropriate labels or targsts. we can see that there are 3 classes of flowers. Our objective is to classify a flower correctly given an unknown featureset of a flower. So we need to first **learn** from the data. We can do so by **fitting** and estimator. Now scikit package comes with a bunvh of estimatos built-in which we can use. the choice of an appropiate estimator depends on the problem. This is a **supervised learning** problem. So we will apply **K nearest neighbors** here."
      ]
    },
    {
      "cell_type": "markdown",
      "metadata": {
        "id": "Ij3KVHVWfOpZ",
        "colab_type": "text"
      },
      "source": [
        "Importing the estimator kneighbors and choosng the value of K"
      ]
    },
    {
      "cell_type": "code",
      "metadata": {
        "id": "3696lteYgg5E",
        "colab_type": "code",
        "colab": {}
      },
      "source": [
        "from sklearn import neighbors\n",
        "n_neighbors=1"
      ],
      "execution_count": 0,
      "outputs": []
    }
  ]
}