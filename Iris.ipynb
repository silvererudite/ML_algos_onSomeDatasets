{
  "nbformat": 4,
  "nbformat_minor": 0,
  "metadata": {
    "colab": {
      "name": "Iris.ipynb",
      "provenance": [],
      "collapsed_sections": []
    },
    "kernelspec": {
      "name": "python3",
      "display_name": "Python 3"
    }
  },
  "cells": [
    {
      "cell_type": "markdown",
      "metadata": {
        "id": "Dgw-X5n_dDDR",
        "colab_type": "text"
      },
      "source": [
        "At first, we import and load the iris dataset that comes with the sklearn built in. At this point we don't need to bother with numpy and pandas yet"
      ]
    },
    {
      "cell_type": "code",
      "metadata": {
        "id": "zlxHXWO_Y6qp",
        "colab_type": "code",
        "colab": {}
      },
      "source": [
        "import pandas as pd\n",
        "import numpy as np\n",
        "from sklearn import datasets\n",
        "iris=datasets.load_iris()\n"
      ],
      "execution_count": 0,
      "outputs": []
    },
    {
      "cell_type": "markdown",
      "metadata": {
        "id": "YN_mZnMgaai-",
        "colab_type": "text"
      },
      "source": [
        "Then we get and idea of what the data looks like by using the .data attribute which returns a 2D array containing(n samples and their corresponding features). Though this doesn't give us much insight and the names of each features. \n",
        "But the iris dataset, or any dataset in scikit learn is a dictionary like object. So we can view what keys it has "
      ]
    },
    {
      "cell_type": "code",
      "metadata": {
        "id": "jQyIvMJEZdtd",
        "colab_type": "code",
        "colab": {
          "base_uri": "https://localhost:8080/",
          "height": 35
        },
        "outputId": "163ec025-0640-418c-ca6d-c1c913e482ea"
      },
      "source": [
        "iris.keys()\n"
      ],
      "execution_count": 10,
      "outputs": [
        {
          "output_type": "execute_result",
          "data": {
            "text/plain": [
              "dict_keys(['data', 'target', 'target_names', 'DESCR', 'feature_names', 'filename'])"
            ]
          },
          "metadata": {
            "tags": []
          },
          "execution_count": 10
        }
      ]
    },
    {
      "cell_type": "markdown",
      "metadata": {
        "id": "h36ndnbwcpJV",
        "colab_type": "text"
      },
      "source": [
        "We can separately view the feature names by calling it using the dot notation like this"
      ]
    },
    {
      "cell_type": "code",
      "metadata": {
        "id": "32wn7nPWaDGv",
        "colab_type": "code",
        "colab": {
          "base_uri": "https://localhost:8080/",
          "height": 90
        },
        "outputId": "f990e67f-0aee-4360-de68-1cb24b671e45"
      },
      "source": [
        "iris.feature_names"
      ],
      "execution_count": 11,
      "outputs": [
        {
          "output_type": "execute_result",
          "data": {
            "text/plain": [
              "['sepal length (cm)',\n",
              " 'sepal width (cm)',\n",
              " 'petal length (cm)',\n",
              " 'petal width (cm)']"
            ]
          },
          "metadata": {
            "tags": []
          },
          "execution_count": 11
        }
      ]
    },
    {
      "cell_type": "code",
      "metadata": {
        "id": "Q0_4D2_cc0lH",
        "colab_type": "code",
        "colab": {}
      },
      "source": [
        ""
      ],
      "execution_count": 0,
      "outputs": []
    }
  ]
}